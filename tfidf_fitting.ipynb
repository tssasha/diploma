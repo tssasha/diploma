{
 "cells": [
  {
   "cell_type": "code",
   "execution_count": null,
   "metadata": {
    "collapsed": true
   },
   "outputs": [],
   "source": [
    "import json\n",
    "from bson.json_util import dumps\n",
    "import pandas as pd\n",
    "\n",
    "with open('dict.json', \"r\", encoding=\"utf8\") as f:\n",
    "    res = eval(json.loads(dumps(f))[0])\n",
    "df = pd.DataFrame(res)"
   ]
  },
  {
   "cell_type": "code",
   "execution_count": null,
   "outputs": [],
   "source": [
    "import spacy\n",
    "\n",
    "nlp = spacy.load(\"ru_core_news_sm\")\n",
    "tokens_df = pd.DataFrame()\n",
    "tokens_df['title_nlp'] = df['title'].map(nlp)\n",
    "tokens_df['body_nlp'] = df['text'].map(nlp)\n",
    "tokens_df['title_tokens'] = df['title']\n",
    "tokens_df['body_tokens'] = df['text']"
   ],
   "metadata": {
    "collapsed": false,
    "pycharm": {
     "name": "#%%\n"
    }
   }
  },
  {
   "cell_type": "code",
   "execution_count": null,
   "outputs": [],
   "source": [
    "def lemmas(lst):\n",
    "    return \" \".join([token.lemma_ for token in lst])\n",
    "def entities(lst):\n",
    "    return \" \".join([ent.lemma_ for ent in lst.ents])\n",
    "\n",
    "tokens_df['title_lemmas'] = tokens_df['title_nlp'].map(lemmas)\n",
    "tokens_df['title_entities']  = tokens_df['title_nlp'].map(entities)\n",
    "\n",
    "tokens_df['body_lemmas'] = tokens_df['body_nlp'].map(lemmas)\n",
    "tokens_df['body_entities']  = tokens_df['body_nlp'].map(entities)\n",
    "\n",
    "tokens_df['title_body_tokens'] = tokens_df['title_tokens'] + ' ' + tokens_df['body_tokens']\n",
    "tokens_df['title_body_lemmas'] = tokens_df['title_lemmas'] + ' ' + tokens_df['body_lemmas']\n",
    "tokens_df['title_body_entities']  = tokens_df['title_entities'] + ' ' + tokens_df['body_entities']"
   ],
   "metadata": {
    "collapsed": false,
    "pycharm": {
     "name": "#%%\n"
    }
   }
  },
  {
   "cell_type": "code",
   "execution_count": null,
   "outputs": [],
   "source": [
    "from sklearn.feature_extraction.text import TfidfVectorizer\n",
    "\n",
    "v_tt = TfidfVectorizer().fit(tokens_df['title_tokens'])\n",
    "v_tl = TfidfVectorizer().fit(tokens_df['title_lemmas'])\n",
    "v_te = TfidfVectorizer().fit(tokens_df['title_entities'])\n",
    "v_bt = TfidfVectorizer().fit(tokens_df['body_tokens'])\n",
    "v_bl = TfidfVectorizer().fit(tokens_df['body_lemmas'])\n",
    "v_be = TfidfVectorizer().fit(tokens_df['body_entities'])\n",
    "v_tbt = TfidfVectorizer().fit(tokens_df['title_body_tokens'])\n",
    "v_tbl = TfidfVectorizer().fit(tokens_df['title_body_lemmas'])\n",
    "v_tbe = TfidfVectorizer().fit(tokens_df['title_body_entities'])"
   ],
   "metadata": {
    "collapsed": false,
    "pycharm": {
     "name": "#%%\n"
    }
   }
  },
  {
   "cell_type": "code",
   "execution_count": null,
   "outputs": [],
   "source": [
    "import pickle\n",
    "\n",
    "with open('vectorizer.pk', 'wb') as f:\n",
    "    pickle.dump([v_tt, v_tl, v_te, v_bt, v_bl, v_be, v_tbt, v_tbl, v_tbe], f)"
   ],
   "metadata": {
    "collapsed": false,
    "pycharm": {
     "name": "#%%\n"
    }
   }
  }
 ],
 "metadata": {
  "kernelspec": {
   "display_name": "Python 3",
   "language": "python",
   "name": "python3"
  },
  "language_info": {
   "codemirror_mode": {
    "name": "ipython",
    "version": 2
   },
   "file_extension": ".py",
   "mimetype": "text/x-python",
   "name": "python",
   "nbconvert_exporter": "python",
   "pygments_lexer": "ipython2",
   "version": "2.7.6"
  }
 },
 "nbformat": 4,
 "nbformat_minor": 0
}