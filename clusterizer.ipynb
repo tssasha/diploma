{
 "cells": [
  {
   "cell_type": "code",
   "execution_count": null,
   "outputs": [],
   "source": [
    "import pickle\n",
    "\n",
    "with open('vectorizer.pk', 'rb') as f:\n",
    "    fitted_dict = pickle.load(f)"
   ],
   "metadata": {
    "collapsed": false,
    "pycharm": {
     "name": "#%%\n"
    }
   }
  },
  {
   "cell_type": "code",
   "execution_count": null,
   "outputs": [],
   "source": [
    "import json\n",
    "from bson.json_util import dumps\n",
    "\n",
    "with open('news.json', \"r\", encoding=\"utf8\") as f:\n",
    "    news = eval(json.loads(dumps(f))[0])"
   ],
   "metadata": {
    "collapsed": false,
    "pycharm": {
     "name": "#%%\n"
    }
   }
  },
  {
   "cell_type": "code",
   "execution_count": null,
   "outputs": [],
   "source": [
    "import spacy\n",
    "import numpy as np\n",
    "\n",
    "def lemmas(lst):\n",
    "    return \" \".join([token.lemma_ for token in lst])\n",
    "def entities(lst):\n",
    "    return \" \".join([ent.lemma_ for ent in lst.ents])\n",
    "\n",
    "nlp = spacy.load(\"ru_core_news_sm\")\n",
    "\n",
    "title = nlp(news[0]['title'])\n",
    "body = nlp(news[0]['text'])\n",
    "doc0 = [news[0]['title'], lemmas(title), entities(title), news[0]['text'], lemmas(body), entities(body)]\n",
    "\n",
    "X0 = [fitted_dict[i].transform([doc0[i]]).toarray().flatten() for i in range(6)] #6 -> 9"
   ],
   "metadata": {
    "collapsed": false,
    "pycharm": {
     "name": "#%%\n"
    }
   }
  },
  {
   "cell_type": "code",
   "execution_count": null,
   "outputs": [],
   "source": [
    "from scipy import spatial\n",
    "\n",
    "def cscore(cluster_X, doc_X):\n",
    "    return sum(1 - spatial.distance.cosine(cluster_X[i], doc_X[i]) for i in range(6))\n",
    "\n",
    "clusters = [(X0, [0])]\n",
    "for i in range(1000, 2000):\n",
    "    title = nlp(news[i]['title'])\n",
    "    body = nlp(news[i]['text'])\n",
    "    doc = [news[i]['title'], lemmas(title), entities(title), news[i]['text'], lemmas(body), entities(body)]\n",
    "    X = [fitted_dict[j].transform([doc[j]]).toarray().flatten() for j in range(6)] #6 -> 9\n",
    "\n",
    "    max_cscore = np.max([cscore(cluster[0], X) for cluster in clusters])\n",
    "    max_cscore_arg = np.argmax([cscore(cluster[0], X) for cluster in clusters])\n",
    "\n",
    "    if max_cscore < 1.5:\n",
    "        clusters.append((X, [i]))\n",
    "    else:\n",
    "        cur_cluster = clusters[max_cscore_arg]\n",
    "        cluster_size = len(cur_cluster[1])\n",
    "        for j in range(6):\n",
    "            clusters[max_cscore_arg][0][j] = (cur_cluster[0][j] * cluster_size + X[j]) / (cluster_size + 1)\n",
    "        clusters[max_cscore_arg][1].append(i)"
   ],
   "metadata": {
    "collapsed": false,
    "pycharm": {
     "name": "#%%\n"
    }
   }
  },
  {
   "cell_type": "code",
   "execution_count": null,
   "outputs": [],
   "source": [
    "print(len(clusters))\n",
    "for cluster in clusters:\n",
    "    print(cluster[1])\n",
    "    for c in cluster[1] :\n",
    "        print(news[c]['title'])"
   ],
   "metadata": {
    "collapsed": false,
    "pycharm": {
     "name": "#%%\n"
    }
   }
  },
  {
   "cell_type": "code",
   "execution_count": 37,
   "outputs": [
    {
     "data": {
      "text/plain": "story_url\nhttps://news.yandex.ru/story/567_tysyach_abortov_zaregistrirovali_v_Rossii_za_2018_god--fed65707fb991ce0bb92a2d69b07b8c4?lang=ru&from=rss&stid=hBKUStwrd9K0Nl6bqN9U                                                          [125]\nhttps://news.yandex.ru/story/Admiral_Nevelskoj_v_YAponskom_more_otkryl_artillerijskuyu_strelbu--516e5561bbeeffbaeb0ba569f76443dc?lang=ru&from=rss&stid=bdNT7lia                                                     [67, 129, 387]\nhttps://news.yandex.ru/story/Akter_Puskepalis_obyasnil_reshenie_ne_snimatsya_na_Zapade--9380a537ad6379af93d48689ffd27a79?lang=ru&from=rss&stid=VPefNT3aeiOekygZwLfg                                                     [366, 595]\nhttps://news.yandex.ru/story/Akter_iz_Tora_i_Terminatora_umer_v_SSHA--3f174f66647fdcb34677d9bb8c46ea7f?lang=ru&from=rss&stid=MNTlgPgwK4SO6qJrdsUv                                                                       [116, 687]\nhttps://news.yandex.ru/story/Albom_Rammstein_slili_v_set_do_reliza--56cfff76bc6eeada46a0ad5d5e4ebfbf?lang=ru&from=rss&stid=qhCec857SK8xHa13H0Rr                                                                              [772]\n                                                                                                                                                                                                       ...                        \nhttps://news.yandex.ru/story/YUta_snova_poprobuet_zapoluchit_Majka_Konli_v_mezhsezone-2019--31cb998062bf7af95e906960d0932865?lang=ru&from=rss                                                                                 [56]\nhttps://news.yandex.ru/story/ZHenskij_basketbolnyj_Spartak_otmetit_70-letie_17_maya_v_Noginske--b7e8fbea325ae6000c25d6cb825dd9ca?lang=ru&from=rss&stid=j_VbFVGWGMmzAfkDxvyF                                                  [500]\nhttps://news.yandex.ru/story/ZHitelyam_Rylska_postradavshim_ot_uragana_okazhut_podderzhku--340660597d6e3ad255787baa14c982ab?lang=ru&from=rss&stid=d14MjTOe-UQ4URAC6bOu                                                       [948]\nhttps://news.yandex.ru/story/Zajcev_stal_avtorom_samogo_bystrogo_gola_na_chempionate_mira_v_Slovakii--09c854afb112719245669d011d814ea4?lang=ru&from=rss&stid=WBUXXH5hZ1v5SQJw                                           [217, 647]\nhttps://news.yandex.ru/story/Zashhita_Kokorina_i_Mamaeva_podast_apellyaciyu_20_maya--cf30c869935acded27f98baad2c51c4c?lang=ru&from=rss&stid=UuqN6RHi9RSJV4Y2tCVY                 [78, 107, 182, 202, 314, 320, 438, 456, 541, 5...\nLength: 223, dtype: object"
     },
     "execution_count": 37,
     "metadata": {},
     "output_type": "execute_result"
    }
   ],
   "source": [
    "import pandas as pd\n",
    "\n",
    "def func(x):\n",
    "    return x.index.to_list()\n",
    "\n",
    "news_df = pd.DataFrame(news[1000:2000])\n",
    "grouped = news_df.groupby('story_url').apply(func)\n",
    "grouped"
   ],
   "metadata": {
    "collapsed": false,
    "pycharm": {
     "name": "#%%\n"
    }
   }
  },
  {
   "cell_type": "code",
   "execution_count": 38,
   "outputs": [
    {
     "name": "stdout",
     "output_type": "stream",
     "text": [
      "[94, 94, 53, 69, 82, 94, 28, 53, 80, 70, 7, 157, 203, 126, 78, 94, 140, 172, 153, 164, 82, 82, 150, 157, 157, 94, 94, 74, 40, 135, 149, 78, 102, 94, 94, 157, 82, 189, 94, 157, 157, 208, 182, 78, 10, 102, 82, 197, 57, 141, 141, 141, 43, 157, 124, 122, 218, 7, 94, 94, 94, 17, 148, 127, 127, 6, 157, 1, 45, 16, 167, 102, 94, 94, 164, 185, 94, 197, 222, 183, 158, 61, 153, 129, 82, 127, 200, 80, 151, 157, 157, 78, 94, 94, 101, 46, 205, 18, 94, 141, 157, 141, 164, 157, 126, 78, 94, 222, 21, 141, 115, 157, 176, 94, 94, 81, 3, 157, 183, 94, 141, 76, 127, 68, 18, 0, 150, 150, 89, 1, 94, 168, 168, 78, 157, 167, 102, 82, 141, 200, 164, 82, 82, 189, 95, 169, 127, 6, 150, 102, 102, 63, 94, 157, 80, 157, 72, 125, 94, 183, 128, 150, 82, 94, 94, 78, 50, 94, 169, 197, 80, 157, 157, 103, 131, 102, 94, 141, 115, 157, 157, 94, 222, 198, 128, 105, 73, 82, 94, 158, 126, 12, 94, 141, 34, 137, 13, 137, 102, 94, 83, 189, 222, 6, 132, 185, 82, 94, 120, 15, 174, 55, 18, 204, 39, 102, 197, 221, 197, 68, 157, 201, 15, 216, 102, 141, 44, 188, 182, 172, 82, 127, 92, 15, 81, 122, 32, 78, 129, 131, 195, 125, 83, 94, 94, 141, 84, 36, 5, 68, 43, 191, 207, 185, 82, 94, 157, 20, 57, 145, 176, 19, 102, 147, 182, 170, 99, 34, 15, 125, 94, 34, 7, 157, 121, 126, 159, 131, 102, 102, 7, 94, 94, 141, 153, 102, 94, 94, 157, 70, 15, 73, 136, 80, 83, 189, 94, 15, 15, 102, 94, 206, 162, 102, 209, 15, 78, 144, 94, 17, 157, 102, 94, 17, 222, 157, 157, 15, 153, 94, 222, 187, 157, 167, 117, 58, 82, 94, 141, 141, 71, 28, 157, 157, 157, 183, 176, 15, 67, 39, 7, 94, 157, 119, 73, 150, 177, 94, 141, 157, 103, 15, 78, 165, 94, 157, 13, 137, 21, 73, 122, 94, 94, 21, 188, 196, 2, 207, 15, 15, 82, 106, 189, 94, 94, 183, 78, 10, 94, 94, 83, 193, 141, 6, 70, 149, 15, 1, 60, 94, 75, 7, 21, 157, 102, 126, 175, 150, 94, 186, 127, 213, 18, 7, 189, 94, 199, 183, 183, 15, 216, 94, 189, 94, 17, 17, 175, 55, 83, 94, 94, 141, 197, 128, 197, 15, 85, 18, 41, 17, 7, 157, 15, 94, 94, 94, 141, 17, 222, 157, 30, 15, 24, 171, 94, 80, 157, 157, 137, 90, 157, 157, 15, 21, 217, 84, 222, 157, 203, 78, 131, 82, 17, 68, 53, 82, 94, 83, 94, 150, 157, 173, 102, 7, 131, 82, 34, 176, 18, 94, 201, 157, 157, 24, 65, 15, 15, 94, 94, 197, 166, 69, 24, 102, 94, 141, 201, 149, 18, 185, 219, 82, 96, 150, 157, 80, 157, 15, 19, 102, 94, 71, 17, 123, 139, 138, 131, 141, 127, 157, 80, 19, 82, 82, 189, 94, 43, 157, 53, 94, 144, 17, 17, 87, 157, 116, 185, 131, 193, 141, 71, 222, 15, 94, 222, 24, 15, 138, 79, 82, 94, 79, 94, 97, 118, 109, 109, 140, 17, 222, 14, 185, 107, 126, 118, 185, 152, 141, 108, 110, 126, 103, 52, 193, 94, 17, 197, 157, 212, 25, 102, 102, 94, 141, 5, 88, 174, 168, 193, 94, 94, 88, 157, 163, 151, 2, 15, 18, 125, 193, 161, 94, 17, 42, 90, 73, 15, 15, 209, 79, 79, 94, 146, 140, 94, 187, 6, 157, 15, 177, 10, 140, 73, 15, 15, 35, 152, 10, 141, 87, 157, 201, 123, 167, 15, 73, 141, 43, 157, 15, 93, 24, 138, 7, 181, 94, 21, 221, 197, 33, 141, 164, 51, 7, 82, 82, 94, 148, 88, 157, 43, 157, 179, 157, 22, 185, 133, 152, 82, 94, 94, 94, 188, 6, 15, 82, 56, 76, 158, 157, 43, 57, 15, 15, 138, 94, 120, 3, 178, 176, 15, 150, 167, 150, 152, 89, 94, 141, 134, 209, 154, 150, 10, 102, 94, 141, 78, 188, 183, 151, 15, 47, 98, 94, 169, 91, 157, 157, 21, 152, 102, 102, 38, 73, 201, 203, 212, 18, 131, 102, 42, 128, 37, 15, 15, 162, 94, 77, 137, 94, 94, 80, 134, 215, 102, 214, 141, 141, 147, 57, 180, 15, 15, 153, 102, 141, 127, 151, 15, 23, 31, 104, 144, 94, 141, 24, 26, 222, 80, 201, 86, 103, 4, 139, 82, 141, 157, 150, 129, 94, 15, 15, 8, 168, 152, 50, 31, 68, 157, 54, 15, 15, 24, 10, 131, 131, 141, 7, 68, 30, 21, 102, 144, 94, 40, 76, 188, 167, 21, 138, 51, 141, 103, 73, 94, 184, 183, 128, 152, 210, 141, 24, 102, 131, 94, 141, 15, 73, 152, 94, 94, 141, 80, 151, 67, 131, 171, 156, 68, 15, 93, 51, 38, 141, 88, 153, 198, 64, 161, 127, 66, 53, 15, 131, 100, 94, 94, 94, 94, 91, 158, 202, 15, 18, 114, 10, 94, 161, 94, 94, 197, 134, 149, 94, 94, 94, 15, 217, 211, 29, 150, 12, 131, 94, 74, 68, 192, 31, 162, 102, 94, 77, 53, 70, 173, 18, 73, 9, 94, 189, 74, 169, 158, 183, 27, 81, 152, 131, 14, 57, 83, 6, 212, 131, 83, 94, 42, 157, 42, 94, 142, 31, 222, 137, 73, 102, 62, 163, 130, 48, 190, 67, 152, 94, 75, 59, 160, 126, 31, 152, 169, 88, 55, 55, 49, 110, 139, 24, 220, 151, 168, 155, 131, 11, 84, 197, 151, 31, 32, 79, 79, 140, 94, 74, 113, 155, 94, 78, 198, 103, 117, 15, 131, 147, 196, 43, 112, 138, 153, 31, 188, 131, 94, 128, 122, 143, 197, 194, 102, 15, 131, 111, 111, 157, 15, 63, 197, 31, 128, 31]\n"
     ]
    }
   ],
   "source": [
    "correct_clusters = [0] * 1000\n",
    "i = 0\n",
    "for elem in grouped:\n",
    "    for x in elem:\n",
    "        correct_clusters[x - 1000] = i\n",
    "    i += 1\n",
    "print(correct_clusters)"
   ],
   "metadata": {
    "collapsed": false,
    "pycharm": {
     "name": "#%%\n"
    }
   }
  },
  {
   "cell_type": "code",
   "execution_count": 39,
   "outputs": [
    {
     "name": "stdout",
     "output_type": "stream",
     "text": [
      "[1, 1, 2, 3, 4, 1, 2, 2, 5, 3, 6, 7, 8, 9, 10, 1, 11, 12, 13, 14, 4, 15, 16, 7, 7, 1, 1, 17, 4, 18, 16, 19, 20, 1, 1, 7, 4, 21, 1, 7, 7, 22, 23, 19, 6, 20, 4, 24, 25, 26, 27, 27, 28, 7, 29, 30, 31, 6, 32, 1, 1, 33, 34, 17, 35, 36, 7, 37, 0, 38, 39, 20, 1, 1, 14, 38, 1, 24, 40, 41, 42, 43, 44, 45, 6, 35, 46, 47, 48, 7, 7, 19, 1, 1, 49, 50, 43, 37, 1, 15, 7, 6, 14, 7, 9, 19, 1, 40, 51, 27, 19, 7, 20, 1, 1, 52, 53, 7, 41, 1, 15, 54, 35, 55, 37, 56, 57, 57, 58, 37, 1, 59, 59, 19, 7, 39, 20, 4, 27, 21, 14, 4, 4, 21, 60, 61, 17, 36, 16, 20, 20, 62, 1, 7, 38, 7, 63, 29, 1, 41, 64, 16, 4, 1, 1, 19, 50, 1, 61, 24, 5, 7, 7, 65, 1, 20, 1, 27, 19, 7, 7, 1, 40, 66, 67, 68, 48, 4, 1, 42, 9, 69, 1, 27, 70, 25, 71, 25, 20, 1, 72, 21, 40, 36, 73, 70, 4, 1, 74, 75, 11, 76, 37, 77, 78, 20, 24, 16, 24, 55, 7, 79, 75, 80, 20, 27, 81, 82, 23, 83, 4, 35, 1, 75, 52, 30, 84, 10, 45, 1, 85, 32, 72, 1, 1, 27, 86, 87, 88, 55, 28, 89, 90, 38, 4, 1, 7, 91, 25, 92, 93, 3, 20, 94, 23, 95, 96, 15, 75, 29, 1, 70, 6, 7, 97, 9, 98, 1, 20, 20, 6, 1, 1, 27, 13, 20, 1, 1, 7, 32, 75, 48, 99, 5, 72, 15, 1, 75, 75, 15, 1, 90, 14, 20, 100, 75, 10, 75, 1, 33, 7, 20, 1, 33, 40, 7, 7, 75, 44, 1, 40, 101, 7, 39, 102, 103, 4, 1, 27, 104, 105, 106, 7, 7, 7, 41, 32, 75, 107, 78, 6, 1, 7, 108, 48, 57, 109, 1, 27, 7, 65, 75, 19, 95, 1, 7, 71, 25, 51, 48, 30, 1, 1, 51, 82, 110, 111, 90, 75, 75, 4, 45, 21, 1, 1, 41, 19, 112, 1, 1, 72, 113, 27, 36, 3, 36, 75, 37, 114, 1, 115, 6, 51, 7, 20, 9, 116, 117, 1, 118, 17, 45, 37, 6, 21, 1, 119, 41, 41, 75, 80, 1, 21, 1, 33, 33, 116, 76, 72, 1, 1, 27, 24, 67, 24, 120, 32, 37, 121, 33, 6, 7, 75, 1, 1, 1, 27, 33, 40, 32, 122, 75, 21, 123, 1, 5, 7, 7, 25, 41, 7, 7, 75, 62, 48, 86, 40, 7, 8, 19, 1, 4, 33, 55, 2, 4, 1, 72, 1, 109, 7, 124, 20, 6, 1, 4, 70, 93, 37, 1, 79, 7, 7, 21, 125, 15, 75, 1, 1, 24, 16, 3, 15, 20, 1, 38, 79, 16, 37, 70, 126, 4, 127, 16, 7, 128, 7, 75, 15, 20, 1, 129, 33, 130, 131, 132, 1, 27, 17, 7, 5, 3, 4, 4, 21, 1, 28, 7, 2, 1, 32, 33, 32, 133, 7, 134, 70, 1, 15, 27, 105, 40, 75, 1, 40, 21, 75, 132, 28, 4, 1, 28, 1, 135, 136, 28, 28, 11, 33, 40, 137, 70, 138, 9, 139, 70, 140, 27, 138, 141, 9, 65, 142, 113, 1, 33, 24, 7, 143, 21, 20, 20, 1, 27, 144, 145, 11, 59, 113, 1, 1, 145, 7, 14, 146, 111, 75, 37, 29, 147, 148, 1, 33, 149, 41, 48, 75, 75, 150, 38, 38, 1, 45, 11, 1, 151, 36, 7, 75, 152, 112, 11, 48, 75, 75, 153, 154, 112, 27, 133, 7, 79, 130, 39, 75, 48, 27, 28, 7, 75, 155, 21, 156, 6, 9, 1, 51, 16, 24, 157, 26, 14, 158, 6, 4, 4, 1, 34, 145, 7, 28, 7, 159, 7, 160, 70, 161, 154, 4, 1, 1, 1, 82, 36, 75, 4, 162, 163, 42, 7, 28, 9, 75, 75, 164, 1, 165, 53, 166, 93, 75, 16, 39, 167, 168, 97, 1, 27, 169, 150, 45, 57, 112, 20, 1, 27, 10, 82, 41, 146, 75, 170, 98, 1, 61, 169, 7, 7, 51, 168, 20, 20, 9, 48, 79, 8, 143, 37, 1, 20, 149, 64, 171, 75, 75, 14, 1, 130, 25, 1, 1, 5, 169, 122, 20, 122, 27, 27, 94, 25, 9, 75, 75, 44, 20, 27, 76, 146, 75, 172, 173, 174, 75, 1, 32, 21, 57, 40, 5, 79, 9, 65, 175, 131, 4, 26, 7, 16, 45, 1, 75, 75, 65, 59, 168, 50, 173, 55, 7, 28, 75, 75, 21, 112, 1, 1, 27, 6, 55, 122, 62, 20, 75, 1, 4, 163, 82, 39, 51, 156, 158, 26, 65, 48, 1, 176, 41, 64, 168, 177, 27, 21, 20, 1, 1, 26, 75, 15, 168, 1, 1, 27, 5, 146, 107, 1, 123, 178, 55, 75, 155, 158, 9, 26, 145, 44, 66, 29, 148, 35, 179, 2, 75, 1, 57, 1, 1, 32, 1, 169, 42, 79, 75, 37, 32, 112, 1, 148, 1, 1, 24, 180, 16, 1, 1, 1, 75, 181, 182, 183, 57, 69, 1, 1, 17, 55, 156, 173, 14, 20, 1, 130, 2, 3, 124, 37, 48, 184, 1, 21, 185, 61, 42, 41, 186, 52, 168, 1, 137, 25, 72, 36, 124, 1, 72, 1, 149, 7, 149, 1, 21, 173, 40, 25, 48, 20, 187, 14, 188, 9, 189, 107, 168, 1, 115, 190, 191, 9, 173, 168, 61, 145, 76, 76, 192, 158, 131, 21, 193, 146, 59, 194, 1, 195, 86, 24, 146, 173, 84, 28, 28, 11, 1, 17, 21, 194, 1, 19, 66, 65, 102, 75, 1, 196, 110, 28, 178, 156, 44, 173, 15, 1, 1, 64, 30, 56, 24, 197, 20, 75, 1, 198, 198, 7, 75, 38, 24, 173, 64, 173]\n"
     ]
    }
   ],
   "source": [
    "predicted_clusters = [0] * 1000\n",
    "i = 0\n",
    "for cluster in clusters:\n",
    "    for x in cluster[1] :\n",
    "        predicted_clusters[x - 1000] = i\n",
    "    i += 1\n",
    "print(predicted_clusters)"
   ],
   "metadata": {
    "collapsed": false,
    "pycharm": {
     "name": "#%%\n"
    }
   }
  },
  {
   "cell_type": "code",
   "execution_count": 40,
   "outputs": [
    {
     "name": "stdout",
     "output_type": "stream",
     "text": [
      "v_measure_score: 0.9298229752120549\n",
      "homogeneity_score: 0.91545971110042\n",
      "completeness_score: 0.9446441333851523\n",
      "adjusted_rand_score: 0.841453510116323\n",
      "adjusted_mutual_info_score: 0.8577628737285878\n"
     ]
    }
   ],
   "source": [
    "from sklearn.metrics.cluster import v_measure_score\n",
    "from sklearn import metrics\n",
    "\n",
    "print('v_measure_score:', v_measure_score(correct_clusters, predicted_clusters))\n",
    "print('homogeneity_score:', metrics.homogeneity_score(correct_clusters, predicted_clusters))\n",
    "print('completeness_score:', metrics.completeness_score(correct_clusters, predicted_clusters))\n",
    "print('adjusted_rand_score:', metrics.adjusted_rand_score(correct_clusters, predicted_clusters))\n",
    "print('adjusted_mutual_info_score:', metrics.adjusted_mutual_info_score(correct_clusters, predicted_clusters))"
   ],
   "metadata": {
    "collapsed": false,
    "pycharm": {
     "name": "#%%\n"
    }
   }
  }
 ],
 "metadata": {
  "kernelspec": {
   "name": "pyenv",
   "language": "python",
   "display_name": "Python (Graduate)"
  },
  "language_info": {
   "codemirror_mode": {
    "name": "ipython",
    "version": 2
   },
   "file_extension": ".py",
   "mimetype": "text/x-python",
   "name": "python",
   "nbconvert_exporter": "python",
   "pygments_lexer": "ipython2",
   "version": "2.7.6"
  }
 },
 "nbformat": 4,
 "nbformat_minor": 0
}